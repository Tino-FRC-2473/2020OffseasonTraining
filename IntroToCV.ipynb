{
  "nbformat": 4,
  "nbformat_minor": 0,
  "metadata": {
    "colab": {
      "name": "IntroToCV.ipynb",
      "provenance": [],
      "collapsed_sections": [],
      "toc_visible": true
    },
    "kernelspec": {
      "name": "python3",
      "display_name": "Python 3"
    }
  },
  "cells": [
    {
      "cell_type": "markdown",
      "metadata": {
        "id": "duBy5Q0nLPz_"
      },
      "source": [
        "# Introduction to Computer Vision\n",
        "\n",
        "This notebook will give an introduction to computer vision fundamentals grounded in the corresponding mathematical concepts from geometry and algebra.\n",
        "\n",
        "## What is Computer Vision?\n",
        "\n",
        "To start off, perhaps it would be helpful to discuss what exactly is computer vision? Different people use this broad term for different things, but broadly computer vision involving designing algorithms and systems that take in visual inputs to derive some useful understanding of the 3D world.\n",
        "\n",
        "The earliest work in this field was labeled under the banner of \"image processing,\" working with 2D images from cameras. By the late 1960's, you see research robots like [SRI's Shaky](https://en.wikipedia.org/wiki/Shakey_the_robot) using analog television cameras to do basic tasks. Many early image processing advances were made in medical applications. In particular the invention of CT scans, which use 2D x-ray images from multiple angles to reconstruct a 3D scan, earned Allan M. Cormack and Godfrey N. Hounsfield the [1979 Nobel Prize in Physiology or Medicine](https://www.nobelprize.org/prizes/medicine/1979/summary/).\n",
        "\n",
        "As cameras became better, cheaper, and more ubiquitous, computer vision has become a part of our everyday lives. From smartphones to cars, more and more products are integrating vision based algorithms. Furthermore, computer vision has found a key role in factories and industrial applications for driving robots and inspection systems.\n",
        "\n",
        "Moving forward, the emergence of new types of sensors such as LIDAR and light-field cameras capable of directly capturing 3D representations of the world are driving new algorithms and use cases. More than any other field, computer vision has embraced deep learning and neural networks as a tool for tackling challenging classification and segmentation tasks. This is an exciting time for computer vision, so let's jump right in!\n",
        "\n",
        "We will be using a Jupyter notebook for this course. Select the code block and hit Shift+Enter to run it and import all the Python libraries we will need."
      ]
    },
    {
      "cell_type": "code",
      "metadata": {
        "id": "1lzBCM6vve1l",
        "colab": {
          "base_uri": "https://localhost:8080/",
          "height": 34
        },
        "outputId": "a516ef01-f7ae-411e-a15e-5ef4c0b9a02d"
      },
      "source": [
        "%matplotlib inline\n",
        "import numpy as np\n",
        "import scipy.signal\n",
        "import cv2\n",
        "\n",
        "from mpl_toolkits import mplot3d\n",
        "import matplotlib.pyplot as plt\n",
        "from matplotlib import collections\n",
        "from mpl_toolkits.mplot3d import art3d\n",
        "\n",
        "print(\"Import done!\")"
      ],
      "execution_count": null,
      "outputs": [
        {
          "output_type": "stream",
          "text": [
            "Import done!\n"
          ],
          "name": "stdout"
        }
      ]
    },
    {
      "cell_type": "markdown",
      "metadata": {
        "id": "aoZOSpLGbncA"
      },
      "source": [
        "# Part 1: Images\n",
        "\n",
        "Before we can start talking about image processing, let's take a look at how 2D images are stored and intepreted by computers. At the simplest level, a digital image is a grid of values. For images from a camera, these values usually represent brightness of some kind and are called *pixels*. Raw images are integer valued, as in each value is stored as a positive integer. The range of values is set by their *bit-depth*, with the number of bits per pixel setting the number of levels that can be stored. For instance, the pixels of an 8-bit image can have values in the range $[0, 2^8]$, or 0-255."
      ]
    },
    {
      "cell_type": "markdown",
      "metadata": {
        "id": "X08uJ_F-4XyW"
      },
      "source": [
        "## 1.1 Grayscale Images\n",
        "\n",
        "Let's take a look at an actual image. We'll start with grayscale image, which have a single value or channel per pixel and so have no color information."
      ]
    },
    {
      "cell_type": "code",
      "metadata": {
        "id": "RU_S0TKbvZfN"
      },
      "source": [
        "! curl https://upload.wikimedia.org/wikipedia/commons/thumb/a/ab/Abraham_Lincoln_O-77_matte_collodion_print.jpg/192px-Abraham_Lincoln_O-77_matte_collodion_print.jpg -o lincoln.jpg\n",
        "\n",
        "lincoln = cv2.imread('lincoln.jpg', cv2.IMREAD_GRAYSCALE)"
      ],
      "execution_count": null,
      "outputs": []
    },
    {
      "cell_type": "code",
      "metadata": {
        "id": "jKXxFt5ZwE6j"
      },
      "source": [
        "print(lincoln)\n",
        "plt.imshow(lincoln, cmap='gray')\n",
        "plt.show()"
      ],
      "execution_count": null,
      "outputs": []
    },
    {
      "cell_type": "markdown",
      "metadata": {
        "id": "Z0SGmoZUze2b"
      },
      "source": [
        "For performing work on images, it is often convenient to convert the integer valued image into a normalized, floating point image that takes values from 0.0-1.0. You can think of this as representing a percentage brightness in each pixel, and has some advantages when combining or doing math on images."
      ]
    },
    {
      "cell_type": "code",
      "metadata": {
        "id": "ue7qaoXMwzF-"
      },
      "source": [
        "print(\"Integer range:\", lincoln.min(), \"to\", lincoln.max())\n",
        "\n",
        "lincoln_float = lincoln.astype(float) / 255\n",
        "print(lincoln_float)\n",
        "print(\"Float range:\", lincoln_float.min(), \"to\", lincoln_float.max())"
      ],
      "execution_count": null,
      "outputs": []
    },
    {
      "cell_type": "markdown",
      "metadata": {
        "id": "bUAiO1vB2qit"
      },
      "source": [
        "One thing to note is that the origin of the image is at the top right. This means positive x is to the right, and positive y is to the bottom. In addition, the image array is addressed first with y, then with x. This convention is a byproduct of the beam scan pattern of analog CRT televisions. As a result, it may be helpful to think about indexing discrete images as `image[row, column]`."
      ]
    },
    {
      "cell_type": "markdown",
      "metadata": {
        "id": "bH9JOnCjvFb_"
      },
      "source": [
        "## Exercise\n",
        "\n",
        "To see how this works in practice, let's write some simple functions for flipping an image horizontally and vertically. Hint: remember how Numpy slicing works with a negative step count!"
      ]
    },
    {
      "cell_type": "code",
      "metadata": {
        "id": "d-PWJfVpvEx5"
      },
      "source": [
        "def flip_horizontal(image):\n",
        "  return image[:, ::-1]\n",
        "\n",
        "def flip_vertical(image):\n",
        "  return image[::-1, :]"
      ],
      "execution_count": null,
      "outputs": []
    },
    {
      "cell_type": "code",
      "metadata": {
        "id": "L1QUkpM8v7C5"
      },
      "source": [
        "plt.imshow(flip_horizontal(lincoln), cmap='gray')\n",
        "plt.title(\"Flip horizontal\")\n",
        "\n",
        "plt.figure()\n",
        "plt.imshow(flip_vertical(lincoln), cmap='gray')\n",
        "plt.title(\"Flip vertical\")\n",
        "plt.show()"
      ],
      "execution_count": null,
      "outputs": []
    },
    {
      "cell_type": "markdown",
      "metadata": {
        "id": "kfL8MK6XA7sR"
      },
      "source": [
        "## 1.2 Point operations\n",
        "\n",
        "Now that we have some image data, let's do something with it. The simplest operations transform an image one pixel at a time. These are commonly called point operations since they only depend on each individual point in an image.\n",
        "\n",
        "Let's take a look at what happens when we shift or scale pixel values. Of course, if a remapped value goes outside the acceptable range of values, we need to clamp it."
      ]
    },
    {
      "cell_type": "code",
      "metadata": {
        "id": "SmzAf7hZCta2"
      },
      "source": [
        "def clamp(float_image):\n",
        "  return float_image.clip(0.0, 1.0)\n",
        "\n",
        "plt.figure()\n",
        "plt.title(\"Original\")\n",
        "plt.imshow(clamp(lincoln_float), cmap='gray', vmin=0.0, vmax=1.0)\n",
        "\n",
        "plt.figure()\n",
        "plt.title(\"Scale by 1.5\")\n",
        "plt.imshow(clamp(lincoln_float * 1.5), cmap='gray', vmin=0.0, vmax=1.0)\n",
        "\n",
        "plt.figure()\n",
        "plt.title(\"Scale by 0.5\")\n",
        "plt.imshow(clamp(lincoln_float * 0.5), cmap='gray', vmin=0.0, vmax=1.0)\n",
        "\n",
        "plt.figure()\n",
        "plt.title(\"Shift by 0.5\")\n",
        "plt.imshow(clamp(lincoln_float + 0.5), cmap='gray', vmin=0.0, vmax=1.0)\n",
        "\n",
        "plt.figure()\n",
        "plt.title(\"Shift by -0.5\")\n",
        "plt.imshow(clamp(lincoln_float - 0.5), cmap='gray', vmin=0.0, vmax=1.0)\n",
        "\n",
        "plt.show()"
      ],
      "execution_count": null,
      "outputs": []
    },
    {
      "cell_type": "markdown",
      "metadata": {
        "id": "a1J-BxMQEPZE"
      },
      "source": [
        "Notice how multiplying by a constant stretches out or squeezes differences between low and high values. This is why contant multiplication is often used to implement contrast adjustment. In the same way, a constant shift is used to implement brightness adjustment.\n",
        "\n",
        "To better see this, we can create a histogram of the values using `plt.hist`. Note that we have to flatten the image first, since we want to look at all of the pixels together rather than row by row."
      ]
    },
    {
      "cell_type": "code",
      "metadata": {
        "id": "R7QG-2KDE1w6"
      },
      "source": [
        "plt.figure()\n",
        "plt.title(\"Original histogram\")\n",
        "plt.hist(lincoln_float.flatten(), bins=20, range=(0, 1))\n",
        "\n",
        "plt.figure()\n",
        "plt.title(\"Scale by 1.5 histogram\")\n",
        "plt.hist(clamp(lincoln_float * 1.5).flatten(), bins=20, range=(0, 1))\n",
        "\n",
        "plt.figure()\n",
        "plt.title(\"Shift by 0.5 histogram\")\n",
        "plt.hist(clamp(lincoln_float * 0.5).flatten(), bins=20, range=(0, 1))\n",
        "\n",
        "plt.show()"
      ],
      "execution_count": null,
      "outputs": []
    },
    {
      "cell_type": "markdown",
      "metadata": {
        "id": "rUZ8Zjw8GiqI"
      },
      "source": [
        "### Exercise\n",
        "\n",
        "Of course, the point operation can be any function that takes in a pixel value and outputs a different pixel value. Let's try implementing a shadow boost function, that keeps pixels brighter than some threshold the same, but scales the brightness of dark pixels by some constant."
      ]
    },
    {
      "cell_type": "code",
      "metadata": {
        "id": "cylzshIAG3bn"
      },
      "source": [
        "def highlight_boost(image, threshold, scale):\n",
        "  return np.where(image > threshold, image, image * scale)\n",
        "\n",
        "plt.figure()\n",
        "plt.title(\"Original\")\n",
        "plt.imshow(clamp(lincoln_float), cmap='gray', vmin=0.0, vmax=1.0)\n",
        "\n",
        "plt.figure()\n",
        "plt.title(\"Shadow Boost\")\n",
        "plt.imshow(clamp(highlight_boost(lincoln_float, 0.4, 2)), cmap='gray', vmin=0.0, vmax=1.0)\n",
        "\n",
        "plt.figure()\n",
        "plt.title(\"Shadow Boost Histogram\")\n",
        "plt.hist(clamp(highlight_boost(lincoln_float, 0.4, 2)).flatten(), bins=20, range=(0, 1))\n",
        "plt.show()"
      ],
      "execution_count": null,
      "outputs": []
    },
    {
      "cell_type": "markdown",
      "metadata": {
        "id": "e-dj29pSIfm6"
      },
      "source": [
        "## 1.3 Linear Filtering and Convolution\n",
        "\n",
        "Point operations are great for doing bulk adjustments across the image, but they only consider one pixel at a time. The next major class of operations operate on groups of pixels. The way this works is that we remap each pixel to some function of the pixel values in its viscinity. \n",
        "\n",
        "The most commonly used subset of these are called linear filters, where the output values is a linear combination of the pixels around a each input pixel. This is usually done using the operation of convolution. A small mask or *kernel* of scaling factors is overlaid on each pixel, and the sum of the products of this mask with the underlying pixel values is used as the output pixel value. This filter kernel is then slid across the image to get new values for each pixel.\n",
        "\n",
        "![Convolution](https://www.pyimagesearch.com/wp-content/uploads/2016/06/convolutions_kernel_sliding.jpg)\n",
        "\n",
        "Let's make this more concrete with an example. Let's blur an image by taking the average of all the pixels in a 3x3 area around each input pixel. There are nine pixels in this area, so the output value will be the sum of all the pixels in this 3x3 neighborhood divided by 9. Alternatively, we each pixel contributes 1/9 times its value to end output value."
      ]
    },
    {
      "cell_type": "code",
      "metadata": {
        "id": "C5jkxDW1L4m0"
      },
      "source": [
        "kernel = np.ones((3,3)) / 9\n",
        "print(kernel)"
      ],
      "execution_count": null,
      "outputs": []
    },
    {
      "cell_type": "markdown",
      "metadata": {
        "id": "zuNe1ALoM2wq"
      },
      "source": [
        "Now we use the convolve2D function from scipy to convolve an image with this filter."
      ]
    },
    {
      "cell_type": "code",
      "metadata": {
        "id": "M-K6l07MM1N7"
      },
      "source": [
        "blurred = scipy.signal.convolve2d(lincoln_float, kernel)\n",
        "plt.imshow(blurred, cmap='gray')\n",
        "plt.show()"
      ],
      "execution_count": null,
      "outputs": []
    },
    {
      "cell_type": "markdown",
      "metadata": {
        "id": "KQrt61s3NZhq"
      },
      "source": [
        "### Exercise\n",
        "Of course, we can get an even smoother blur by average across a larger area. Try writing a function that generates larger blur filter kernels, and see what happens. This filter is commonly known as a box blur. "
      ]
    },
    {
      "cell_type": "code",
      "metadata": {
        "id": "k7WT2FlsNrV3"
      },
      "source": [
        "def box_blur_kernel(size):\n",
        "  return np.ones((size,size)) / size**2\n",
        "\n",
        "plt.figure()\n",
        "plt.title(\"Original\")\n",
        "plt.imshow(lincoln_float, cmap='gray')\n",
        "plt.show()\n",
        "\n",
        "plt.figure()\n",
        "plt.title(\"Size 5 blur\")\n",
        "plt.imshow(clamp(scipy.signal.convolve2d(lincoln_float, box_blur_kernel(5))), cmap='gray')\n",
        "plt.show()\n",
        "\n",
        "plt.figure()\n",
        "plt.title(\"Size 7 blur\")\n",
        "plt.imshow(clamp(scipy.signal.convolve2d(lincoln_float, box_blur_kernel(7))), cmap='gray')\n",
        "plt.show()"
      ],
      "execution_count": null,
      "outputs": []
    },
    {
      "cell_type": "markdown",
      "metadata": {
        "id": "C493buNfbDPc"
      },
      "source": [
        "## 1.4 Edge Detection\n",
        "\n",
        "One major use of linear filtering is for edge detection. Fundamentally, an edge is a place where the pixel values changes sharply. In math terms, the derivative at that pixel is very high. If you remember from calculus, for a discrete function you can approximate the derivative by taking the difference over a small distance.\n",
        "\n",
        "Let's construct a filter that adds up the differences between the target pixel and all its neighbors."
      ]
    },
    {
      "cell_type": "code",
      "metadata": {
        "id": "HP26xmXZXsJC"
      },
      "source": [
        "kernel = np.array([[-1,-1,-1],[-1,8,-1],[-1,-1,-1]])\n",
        "print(kernel)\n",
        "filtered = scipy.signal.convolve2d(lincoln_float, kernel)\n",
        "plt.imshow(clamp(filtered), cmap='gray')\n",
        "plt.show()"
      ],
      "execution_count": null,
      "outputs": []
    },
    {
      "cell_type": "markdown",
      "metadata": {
        "id": "Ycmmw3C8cbrr"
      },
      "source": [
        "As a bonus, what happens when we highlight these pixels on top of the original image? We can implement this by adding an extra copy of the original pixel value, so increase the mask's value at the anchor pixel's entry by 1."
      ]
    },
    {
      "cell_type": "code",
      "metadata": {
        "id": "Gu0Nk5vQciVu"
      },
      "source": [
        "kernel = np.array([[-1,-1,-1],[-1,9,-1],[-1,-1,-1]])\n",
        "print(kernel)\n",
        "filtered = scipy.signal.convolve2d(lincoln_float, kernel)\n",
        "plt.imshow(clamp(filtered), cmap='gray')\n",
        "plt.show()"
      ],
      "execution_count": null,
      "outputs": []
    },
    {
      "cell_type": "markdown",
      "metadata": {
        "id": "_O9Q1c1hc-I_"
      },
      "source": [
        "# Part 2: Color\n",
        "\n",
        "Now that we have the basics of image manipulation under our belt, let's take things to the next dimension: color images!"
      ]
    },
    {
      "cell_type": "markdown",
      "metadata": {
        "id": "GzvSCPCldQZt"
      },
      "source": [
        "## 2.1 What is color, really?\n",
        "\n",
        "In elementary school, we are taught that colored light is made up of three primary colors that we can mix together to make any other color. This is often shown in a kind of color venn diagram or color wheel\n",
        "\n",
        "![Color wheel](https://upload.wikimedia.org/wikipedia/commons/thumb/c/c2/AdditiveColor.svg/240px-AdditiveColor.svg.png)\n",
        "\n",
        "In physics, you probably learned that the color of light is dependent on the frequency of light waves. This is usually demonstrated by a prism breaking light into a continuous rainbow as different frequencies of light are bent differently.\n",
        "\n",
        "![Visible Spectrum](https://upload.wikimedia.org/wikipedia/commons/thumb/d/d9/Linear_visible_spectrum.svg/500px-Linear_visible_spectrum.svg.png)\n",
        "\n",
        "But there's a bit of a problem here. Just putting some red and green photons together doesn't change their frequency to yellow. And a cyan photon can't magically split apart into a blue and green photon when it enters a camera. And why are red, green, and blue so special?\n",
        "\n",
        "So we come to the next generation of color theory: the tristimulus model. The light sensing cone cells in our eyes have three different kinds of pigments. Each pigment produces a different level of response when it absorbs different frequencies of light.\n",
        "\n",
        "![Cone color response](https://upload.wikimedia.org/wikipedia/commons/thumb/1/1e/Cones_SMJ2_E.svg/500px-Cones_SMJ2_E.svg.png)\n",
        "\n",
        "Our brains then combine the level of response from each of the three classes of cone cells to estimate what frequency of light we're looking at. For camera and display makers, this is great news since if we can just stimulate these three classes of cells independently, we can simulate any color we want. The peaks of the three responses are at red, green, and blue. So we have our first color system, RGB.\n",
        "\n",
        "Note, however, that the three cells aren't completely independent. In other words, we can't pick frequencies that only stimulate one of the three cell types because their response curves overlap. So we can mix red and green light to look *similar* to yellow light, but not *exactly the same* as true yellow light.\n",
        "\n",
        "On top of this, the brain does all kinds of processing to estimate color that we just can't model with three numbers. For instance, the color brown doesn't appear on any of these models, because it is an artifact of the way our brains judge relative brightness. If you're interested in learning more, the famous book [_Interactions of Color_](hhttps://sccl.bibliocommons.com/item/show/389841118) by Josef Albers lays out a series of exercises to explore how we perceive color with an eye toward graphic design and art.\n",
        "\n",
        "![Albers](https://collectionapi.metmuseum.org/api/collection/v1/iiif/737721/1626557/restricted)\n",
        "\n",
        "We're only scratching the surface here, but I hope this gives a bit of background into where RGB comes from and the underlying complexity of color representation.\n",
        "\n",
        "![XKCD](https://imgs.xkcd.com/comics/color_models.png)"
      ]
    },
    {
      "cell_type": "markdown",
      "metadata": {
        "id": "d6U1m1Ponz1Y"
      },
      "source": [
        "## 2.2 Color images\n",
        "\n",
        "So to summarize, we need three values in order to represent color as humans see it. So a color image has three values for each pixel. These are usually referred to as channels, so for RGB we have a red channel, a green channel, and a blue channel.\n",
        "\n",
        "Now remember, OpenCV does things a bit backward, so we're going to need our BGR to RGB function from last lesson."
      ]
    },
    {
      "cell_type": "code",
      "metadata": {
        "id": "23ZBZP0CdIlO"
      },
      "source": [
        "def bgr_to_rgb(image):\n",
        "  # WRITE CODE HERE\n",
        "  return image[:,:,::-1]\n",
        "\n",
        "! curl https://cdn.star.nesdis.noaa.gov/GOES17/ABI/FD/GEOCOLOR/678x678.jpg     -o goes_west.jpg\n",
        "\n",
        "image = bgr_to_rgb(cv2.imread('goes_west.jpg'))\n",
        "plt.imshow(image)\n",
        "plt.show()"
      ],
      "execution_count": null,
      "outputs": []
    },
    {
      "cell_type": "code",
      "metadata": {
        "id": "yGm4GsErVlTJ"
      },
      "source": [
        "\n",
        "\n",
        "\n"
      ],
      "execution_count": null,
      "outputs": []
    },
    {
      "cell_type": "markdown",
      "metadata": {
        "id": "6CTBgPzShXND"
      },
      "source": [
        "TODO: Color space, color segmentation"
      ]
    },
    {
      "cell_type": "markdown",
      "metadata": {
        "id": "QkpX77kRS9yW"
      },
      "source": [
        "# Part 3: 3D Geometry\n",
        "\n",
        "Before we can start working with images, we need to understand how we get images in the first place. Fundamentally, an image is a lower-dimensional representation of a higher-dimensional space. We are primarily working with 2D images of our 3D world. Let's go into more detail on how we describe objects in 3D space.\n",
        "\n",
        "First let's load in some 3D data we'll use later. This the [Utah teapot](https://www.computerhistory.org/revolution/computer-graphics-music-and-art/15/206), the single most famous 3D model in 3D graphics. "
      ]
    },
    {
      "cell_type": "code",
      "metadata": {
        "id": "Bc5BTMjmDFEq",
        "colab": {
          "base_uri": "https://localhost:8080/",
          "height": 156
        },
        "outputId": "de5df3bd-51e2-447b-8bc1-5eadeb2f22b8"
      },
      "source": [
        "!pip install numpy-stl\n",
        "import stl\n",
        "!curl \"https://upload.wikimedia.org/wikipedia/commons/9/93/Utah_teapot_%28solid%29.stl\" -o teapot.stl\n",
        "\n",
        "teapot_stl = stl.mesh.Mesh.from_file('teapot.stl')\n",
        "teapot_verts = np.unique(np.reshape(teapot_stl.vectors, (-1, 3)), axis=0)\n",
        "teapot_edges = np.stack([np.roll(teapot_stl.vectors, 1, axis=1), teapot_stl.vectors], axis=2)\n",
        "teapot_edges = np.sort(teapot_edges.reshape((-1,2,3)), axis=1)\n",
        "teapot_edges = np.unique(teapot_edges, axis=0).shape"
      ],
      "execution_count": null,
      "outputs": [
        {
          "output_type": "stream",
          "text": [
            "Requirement already satisfied: numpy-stl in /usr/local/lib/python3.6/dist-packages (2.12.0)\n",
            "Requirement already satisfied: numpy in /usr/local/lib/python3.6/dist-packages (from numpy-stl) (1.18.5)\n",
            "Requirement already satisfied: python-utils>=1.6.2 in /usr/local/lib/python3.6/dist-packages (from numpy-stl) (2.4.0)\n",
            "Requirement already satisfied: six in /usr/local/lib/python3.6/dist-packages (from python-utils>=1.6.2->numpy-stl) (1.15.0)\n",
            "  % Total    % Received % Xferd  Average Speed   Time    Time     Time  Current\n",
            "                                 Dload  Upload   Total   Spent    Left  Speed\n",
            "100  460k    0  460k    0     0  1212k      0 --:--:-- --:--:-- --:--:-- 1212k\n"
          ],
          "name": "stdout"
        }
      ]
    },
    {
      "cell_type": "markdown",
      "metadata": {
        "id": "UtYxSra1OsNz"
      },
      "source": [
        "## 3.1 Geometric Primitives\n",
        "\n",
        "From middle school geometry, you should remember that the basic building blocks of geometry are points and lines. In particular, a point is simply a spot in space, represented by a set of coordinates. A line or edge is a connection between any two points. Indeed, any two points can form a unique edge. Next, a collection of three or more points connected by edges can form a polygon. Three points connected by three edges is a triangle, four points and four edges is a quadrilateral, etc. Simple stuff.\n",
        "\n",
        "The exact same terminology extends to 3D. However, we have quite a few more options for playing around with polygons. A collection of interconnected polygons is called a polygon mesh or mesh for short. In the context of meshes, you'll often hear the individual polygons referred to as faces of the mesh. For instance, a simple cube mesh has six rectangular faces.\n",
        "\n",
        "![Cube mesh](https://haygot.s3.amazonaws.com/questions/1511554_1675028_ans_9e1cc499d8bc4964b5b8f61c490babd7.jpg)\n",
        "\n",
        "One side note is that computer graphics and GPUs generally use trianglular faces. This is because any collection of three points (or two joined edges) is guarenteed to form a flat triangle. You may remember the theorem from geometry that any three points form a plane. Thus, you can assume any triangle is flat. However, that is not true for polygons with four or more vertices! Thus you'll sometime hear people referring to \"triangulation\" or \"triangulated meshes,\" which means a mesh has been converted to only contain triangles. Also, since you can always break a polygon into a set of triangles, some CV algorithms will just assume meshes are made of triangles to keep the math simpler."
      ]
    },
    {
      "cell_type": "markdown",
      "metadata": {
        "id": "5lDT0rJbL3aM"
      },
      "source": [
        "Let's define some functions to generate nice looking plots of collections of points and edges. For now we'll rely on matplotlib to do drawing. In part 3 we will work toward building our own camera and mini-render engine. I've prewritten some functions to plot vert lists and edge lists."
      ]
    },
    {
      "cell_type": "code",
      "metadata": {
        "id": "fNtykJRYL8wL"
      },
      "source": [
        "def plot2d_verts(vert_list, title=\"\", range=3):\n",
        "  fig = plt.figure()\n",
        "  ax = fig.gca()\n",
        "  plt.scatter(vert_list[:,0], vert_list[:,1])\n",
        "\n",
        "  plt.xlim(-range,range)\n",
        "  plt.ylim(-range,range)\n",
        "  ax.set_aspect('equal')\n",
        "  ax.set_title(title)\n",
        "  plt.grid()\n",
        "  plt.show()\n",
        "\n",
        "def plot2d_edges(vert_list, edge_list, title=\"\", range=3):\n",
        "  edge_collection = collections.LineCollection(edge_list, linewidths=2)\n",
        "  fig = plt.figure()\n",
        "  ax = fig.gca()\n",
        "  plt.scatter(vert_list[:,0], vert_list[:,1])\n",
        "\n",
        "  plt.xlim(-range,range)\n",
        "  plt.ylim(-range,range)\n",
        "  ax.set_aspect('equal')\n",
        "  ax.add_collection(edge_collection)\n",
        "  ax.set_title(title)\n",
        "  plt.grid()\n",
        "  plt.show()\n",
        "\n",
        "def plot3d_verts(vert_list, title=\"\", range=2, axes_opacity=0.3):\n",
        "  fig = plt.figure(figsize=plt.figaspect(1))\n",
        "  ax = fig.gca(projection='3d')\n",
        "  ax.scatter(vert_list[:,0], vert_list[:,1], vert_list[:,2])\n",
        "  ax.set_xlim3d(-range, range)\n",
        "  ax.set_ylim3d(-range, range)\n",
        "  ax.set_zlim3d(-range, range)\n",
        "  ax.set_title(title)\n",
        "  origin_axes = art3d.Line3DCollection([((-range,0,0), (range,0,0)),\n",
        "                                        ((0,-range,0), (0,range,0)),\n",
        "                                        ((0,0,-range), (0, 0,range))], colors=((1,0,0,axes_opacity),(0,1,0,axes_opacity),(0,0,1,axes_opacity)), linewidths=2)\n",
        "  ax.add_collection(origin_axes)\n",
        "  plt.show()\n",
        "\n",
        "def plot3d_edges(vert_list, edge_list, title=\"\", range=2, axes_opacity=0.3):\n",
        "  fig = plt.figure(figsize=plt.figaspect(1))\n",
        "  ax = fig.gca(projection='3d')\n",
        "  ax.scatter(vert_list[:,0], vert_list[:,1], vert_list[:,2])\n",
        "  ax.set_xlim3d(-range, range)\n",
        "  ax.set_ylim3d(-range, range)\n",
        "  ax.set_zlim3d(-range, range)\n",
        "  ax.set_title(title)\n",
        "  origin_axes = art3d.Line3DCollection([((-range,0,0), (range,0,0)),\n",
        "                                        ((0,-range,0), (0,range,0)),\n",
        "                                        ((0,0,-range), (0, 0,range))], colors=((1,0,0,axes_opacity),(0,1,0,axes_opacity),(0,0,1,axes_opacity)), linewidths=2)\n",
        "  ax.add_collection(origin_axes)\n",
        "  edge_collection = art3d.Line3DCollection(edge_list)\n",
        "  ax.add_collection(edge_collection)\n",
        "  plt.show()"
      ],
      "execution_count": null,
      "outputs": []
    },
    {
      "cell_type": "markdown",
      "metadata": {
        "id": "jQ-ZUM_AVvRk"
      },
      "source": [
        "##3.2 Mesh representation\n",
        "\n",
        "So how do we actually represent a mesh in software? Well, remember that points can be represented by their location in space. So in software, we record the coordinates of the point as a vector. For points in 2D, this is a simple (x, y) pair. For 3D, we add an additional dimension so we end up with a 3D vector (x, y, z)\n",
        "\n",
        "To keep things simple, let's start with 2D objects and work our way up to 3D. As an exercise, what are the vertices for a unit square (side length 1) sitting in the positive quadrant? Remember there are 4 vertices for a square, so save their coordinates in a shape (4 vertices, 2 dimensions) numpy array."
      ]
    },
    {
      "cell_type": "code",
      "metadata": {
        "id": "bZhIRIEkWmN3",
        "colab": {
          "base_uri": "https://localhost:8080/",
          "height": 269
        },
        "outputId": "f33db51f-61d8-4eb3-90e0-e2c761385f9e"
      },
      "source": [
        "square_verts = np.array([[0, 0], [1, 0], [0, 1], [1, 1]])\n",
        "\n",
        "plot2d_verts(square_verts)"
      ],
      "execution_count": null,
      "outputs": [
        {
          "output_type": "display_data",
          "data": {
            "image/png": "[encoded data removed]",
            "text/plain": [
              "<Figure size 432x288 with 1 Axes>"
            ]
          },
          "metadata": {
            "tags": [],
            "needs_background": "light"
          }
        }
      ]
    },
    {
      "cell_type": "markdown",
      "metadata": {
        "id": "fx9QlYzIXJHV"
      },
      "source": [
        "Next we need to show how these vertices are connected into edges. Remember that an edge is simply a pair of vertices. So we can write down an edge list as a list of pairs of coordinates. Write down the edge list for our unit square. This is a list of pairs of 2d coordinates, so dimension is going to be (4 edges, pairs of 2, 2 dimensions)"
      ]
    },
    {
      "cell_type": "code",
      "metadata": {
        "id": "_Zbp2n1dXh2a",
        "colab": {
          "base_uri": "https://localhost:8080/",
          "height": 269
        },
        "outputId": "46026008-3e0b-48e5-b24c-9a8dfb871903"
      },
      "source": [
        "square_edges = np.array([\n",
        "                       [[0, 0], [1, 0]],\n",
        "                       [[0, 0], [0, 1]],\n",
        "                       [[1, 1], [1, 0]],\n",
        "                       [[1, 1], [0, 1]]])\n",
        "\n",
        "plot2d_edges(square_verts, square_edges)"
      ],
      "execution_count": null,
      "outputs": [
        {
          "output_type": "display_data",
          "data": {
            "image/png": "[encoded data removed]",
            "text/plain": [
              "<Figure size 432x288 with 1 Axes>"
            ]
          },
          "metadata": {
            "tags": [],
            "needs_background": "light"
          }
        }
      ]
    },
    {
      "cell_type": "markdown",
      "metadata": {
        "id": "i4_vU0DrfsJg"
      },
      "source": [
        "OK, now let's take this to the 3rd dimension! Let's start with a cube. Just like before, we'll define a vertex and edge list."
      ]
    },
    {
      "cell_type": "code",
      "metadata": {
        "id": "ZgHKrtEKf8uX",
        "colab": {
          "base_uri": "https://localhost:8080/",
          "height": 479
        },
        "outputId": "0bb3060f-aae1-4737-8d0f-ea4fb495fbfa"
      },
      "source": [
        "cube_verts = np.array([[0, 0, 0], [1, 0, 0], [0, 1, 0], [1, 1, 0],\n",
        "                       [0, 0, 1], [1, 0, 1], [0, 1, 1], [1, 1, 1]])\n",
        "\n",
        "plot3d_verts(cube_verts)\n",
        "\n",
        "cube_edges = np.array([[[0,0,0], [1,0,0]],\n",
        "                       [[0,0,1], [1,0,1]],\n",
        "                       [[0,0,0], [0,0,1]],\n",
        "                       [[1,0,0], [1,0,1]],\n",
        "                       [[0,0,0], [0,1,0]],\n",
        "                       [[0,0,1], [0,1,1]],\n",
        "                       [[1,0,0], [1,1,0]],\n",
        "                       [[1,0,1], [1,1,1]],\n",
        "                       [[0,1,0], [1,1,0]],\n",
        "                       [[0,1,0], [0,1,1]],\n",
        "                       [[0,1,1], [1,1,1]],\n",
        "                       [[1,1,0], [1,1,1]],\n",
        "                       ])\n",
        "plot3d_edges(cube_verts, cube_edges)"
      ],
      "execution_count": null,
      "outputs": [
        {
          "output_type": "display_data",
          "data": {
            "image/png": "[encoded data removed]",
            "text/plain": [
              "<Figure size 288x288 with 1 Axes>"
            ]
          },
          "metadata": {
            "tags": [],
            "needs_background": "light"
          }
        },
        {
          "output_type": "display_data",
          "data": {
            "image/png": "[encoded data removed]",
            "text/plain": [
              "<Figure size 288x288 with 1 Axes>"
            ]
          },
          "metadata": {
            "tags": [],
            "needs_background": "light"
          }
        }
      ]
    },
    {
      "cell_type": "markdown",
      "metadata": {
        "id": "LL_A4MWzjsxT"
      },
      "source": [
        "Of course, we can also draw much larger meshes, like our teapot."
      ]
    },
    {
      "cell_type": "code",
      "metadata": {
        "id": "NVWChnsIjyDZ",
        "colab": {
          "base_uri": "https://localhost:8080/",
          "height": 248
        },
        "outputId": "d136a37e-9fd1-4cad-eae6-5d1eb4e4ab2e"
      },
      "source": [
        "plot3d_verts(teapot_verts, range=5)"
      ],
      "execution_count": null,
      "outputs": [
        {
          "output_type": "display_data",
          "data": {
            "image/png": "[encoded data removed]",
            "text/plain": [
              "<Figure size 288x288 with 1 Axes>"
            ]
          },
          "metadata": {
            "tags": [],
            "needs_background": "light"
          }
        }
      ]
    },
    {
      "cell_type": "markdown",
      "metadata": {
        "id": "4z3MhpQiu3bo"
      },
      "source": [
        "##3.3 Linear Transformations\n",
        "\n",
        "Now that we have some objects, let's try moving them around a bit. From the basics of linear algebra, you should remember that matricies can be used to represent *linear transformations*. By far the most common transformation we will encounter is rotation. So let's jump right in with rotation matricies and see how this all works in practice.\n",
        "\n",
        "You can easily Google for rotation matricies and get a bunch of formulas of varying degree of accuracy. However, there's a subtle but import question to be careful about: what exactly is being rotated? \n",
        "\n",
        "When you apply a matrix $A$ to a vector $\\vec{x}$, there's two ways to think about this transformation. One, your coordinate axes (or reference frame in physics, or camera for CV) stay still and the points the vector represent are moved around. Two, the points are staying the same place but your coordinate axes are moving around, so the coordinates of the point change. The key point is: **a transformation moving points appears the same as a moving the coordinate systems by the inverse transform.**\n",
        "\n",
        "Think about it this way: If you hold up your phone to the screen, rotate it right, and take a picture, it will look the same as keeping your phone still and rotating your screen *left* by the same amount.\n",
        "\n",
        "Let's start in 2D to keep things simple. Let's derive the a matrix for a clockwise rotation of the axes by an angle $\\theta$. This is equivalent to a *counter-clockwise* rotation of points with a fixed set of coordinate axes.\n",
        "\n",
        "![Rotation](https://scipython.com/static/media/uploads/examples/rotation-matrix-figure.png)\n",
        "\n",
        "In the rotated (blue) axes, the point $\\begin{bmatrix}1\\\\0\\end{bmatrix}$ (marked in green as $\\hat{e}_x')$ now appears above the rotated x axis, at the coordinates $\\begin{bmatrix}\\cos{\\theta}\\\\\\sin{\\theta}\\end{bmatrix}$. Simarly, the point $\\begin{bmatrix}0\\\\1\\end{bmatrix}$ (marked in green as $\\hat{e}_y'$) now appears to the left of the rotated y axis, at the point $\\begin{bmatrix}-\\sin{\\theta}\\\\\\cos{\\theta}\\end{bmatrix}$. Thus, our transformation matrix is $\\begin{bmatrix}\\cos{\\theta}&-\\sin{\\theta}\\\\\\sin{\\theta}&\\cos{\\theta}\\end{bmatrix}$. Take a moment to think this through.\n",
        "\n",
        "Let's write a function to generate this matrix as a numpy array:\n",
        "\n",
        "\n"
      ]
    },
    {
      "cell_type": "code",
      "metadata": {
        "id": "xYN0eAgs2CH_",
        "colab": {
          "base_uri": "https://localhost:8080/",
          "height": 119
        },
        "outputId": "562dbabe-9153-4f87-aef7-8d6eb9d81fd9"
      },
      "source": [
        "def rotation_mat_clockwise_axis(theta):\n",
        "  return np.array([[np.cos(theta), -np.sin(theta)],\n",
        "                   [np.sin(theta), np.cos(theta)]])\n",
        "\n",
        "print(\"Rotate 90º\\n\", np.round(rotation_mat_clockwise_axis(np.pi / 2), decimals=2))\n",
        "print(\"Rotate 180º\\n\", np.round(rotation_mat_clockwise_axis(np.pi), decimals=2))"
      ],
      "execution_count": null,
      "outputs": [
        {
          "output_type": "stream",
          "text": [
            "Rotate 90º\n",
            " [[ 0. -1.]\n",
            " [ 1.  0.]]\n",
            "Rotate 180º\n",
            " [[-1. -0.]\n",
            " [ 0. -1.]]\n"
          ],
          "name": "stdout"
        }
      ]
    },
    {
      "cell_type": "markdown",
      "metadata": {
        "id": "JFHMGtNfJ0ih"
      },
      "source": [
        "Let's apply this matrix to vertices of the unit square we created earlier. We're going to use the @ operator, which is a new feature of Python 3.5+ for performing matrix multiplication. Note we call reshape on the vertices in order to turn the row vectors into column vectors."
      ]
    },
    {
      "cell_type": "code",
      "metadata": {
        "id": "UN80kvGXJz8E",
        "colab": {
          "base_uri": "https://localhost:8080/",
          "height": 320
        },
        "outputId": "783793da-f3be-4e6c-e8b8-da11f808f8df"
      },
      "source": [
        "rot_mat = rotation_mat_clockwise_axis(np.pi/4)\n",
        "print(\"Rotation matrix:\\n\", rot_mat)\n",
        "\n",
        "transformed_verts = np.empty((square_verts.shape[0], 2, 1))\n",
        "for i in range(square_verts.shape[0]):\n",
        "  transformed_verts[i] = rot_mat @ np.reshape(square_verts[i], (2,1))\n",
        "\n",
        "plot2d_verts(transformed_verts)"
      ],
      "execution_count": null,
      "outputs": [
        {
          "output_type": "stream",
          "text": [
            "Rotation matrix:\n",
            " [[ 0.70710678 -0.70710678]\n",
            " [ 0.70710678  0.70710678]]\n"
          ],
          "name": "stdout"
        },
        {
          "output_type": "display_data",
          "data": {
            "image/png": "[encoded data removed]",
            "text/plain": [
              "<Figure size 432x288 with 1 Axes>"
            ]
          },
          "metadata": {
            "tags": [],
            "needs_background": "light"
          }
        }
      ]
    },
    {
      "cell_type": "markdown",
      "metadata": {
        "id": "HyHZ6gU0s42E"
      },
      "source": [
        "$A\\times B\\times C$ = $(A\\times B)\\times C$ = $A\\times (B\\times C)$"
      ]
    },
    {
      "cell_type": "markdown",
      "metadata": {
        "id": "HyLDfAIXOAht"
      },
      "source": [
        "One of the important properties of matrix multiplication is that it is associative, so we can combine a bunch of transforms together by matrix multiplying together and get the same result as if we did them one by one. Note though that composing the matricies ahead of time means you do a lot fewer matrix multiplications when you run your algorithm!"
      ]
    },
    {
      "cell_type": "code",
      "metadata": {
        "id": "2PfsYYijOYfZ",
        "colab": {
          "base_uri": "https://localhost:8080/",
          "height": 647
        },
        "outputId": "9e554402-c47e-4dd0-d5ca-623508a06a42"
      },
      "source": [
        "rot_45 = rotation_mat_clockwise_axis(np.pi/4)\n",
        "print(\"Rotation matrix 45:\\n\", rot_mat)\n",
        "\n",
        "# Compose two rotations into one matrix\n",
        "rot_90 = rot_mat @ rot_mat\n",
        "print(\"Rotation matrix 90:\\n\", np.round(rot_90, 2))\n",
        "\n",
        "# Apply rot_45 twice\n",
        "transformed_verts = np.empty((square_verts.shape[0], 2, 1))\n",
        "for i in range(square_verts.shape[0]):\n",
        "  transformed_verts[i] = rot_mat @ rot_mat @ np.reshape(square_verts[i], (2,1))\n",
        "plot2d_verts(transformed_verts, \"Transform twice\")\n",
        "\n",
        "# Apply rot_90 once\n",
        "transformed_verts = np.empty((square_verts.shape[0], 2, 1))\n",
        "for i in range(square_verts.shape[0]):\n",
        "  transformed_verts[i] = rot_90 @ np.reshape(square_verts[i], (2,1))\n",
        "plot2d_verts(transformed_verts, \"Composed transform\")\n"
      ],
      "execution_count": null,
      "outputs": [
        {
          "output_type": "stream",
          "text": [
            "Rotation matrix 45:\n",
            " [[ 0.70710678 -0.70710678]\n",
            " [ 0.70710678  0.70710678]]\n",
            "Rotation matrix 90:\n",
            " [[ 0. -1.]\n",
            " [ 1.  0.]]\n"
          ],
          "name": "stdout"
        },
        {
          "output_type": "display_data",
          "data": {
            "image/png": "[encoded data removed]",
            "text/plain": [
              "<Figure size 432x288 with 1 Axes>"
            ]
          },
          "metadata": {
            "tags": [],
            "needs_background": "light"
          }
        },
        {
          "output_type": "display_data",
          "data": {
            "image/png": "[encoded data removed]",
            "text/plain": [
              "<Figure size 432x288 with 1 Axes>"
            ]
          },
          "metadata": {
            "tags": [],
            "needs_background": "light"
          }
        }
      ]
    },
    {
      "cell_type": "markdown",
      "metadata": {
        "id": "aCqcAFsmP_4C"
      },
      "source": [
        "Now let's take this into 3D. In 2D we only really had one possible axis of rotation. In 3D we have a lot more options. You can pick any 3D vector and use it as an axis of rotation to spin around (Euler's rotation theorem). However this can be a bit tricky to turn into a transformation matrix. \n",
        "\n",
        "To keep things simple, one common way to encode 3D rotations are Euler angles. They are named after Euler because he's the first to figure out the math behind them (along with most of rest of geometry). In principle, you can break any 3D rotation into three separate rotations around each of the three axes. \n",
        "\n",
        "To implement Euler angles, we just need to derive the matrices for these three elementary rotations. Then using the principle of matrix composition, we can then multiply together the three component rotations into the 3D rotation matrix."
      ]
    },
    {
      "cell_type": "code",
      "metadata": {
        "id": "5MUNOkwfvTR3",
        "colab": {
          "base_uri": "https://localhost:8080/",
          "height": 248
        },
        "outputId": "4e13e69e-949b-4a4e-f6d9-27e64b15768f"
      },
      "source": [
        " def rot_mat_3d(theta):\n",
        "  return np.array([[1, 0, 0],\n",
        "                       [0, np.cos(theta), -np.sin(theta)],\n",
        "                       [0, np.sin(theta), np.cos(theta)]])\n",
        "\n",
        "rot_mat = rot_mat_3d(np.pi/4)\n",
        "transformed_verts = np.empty((teapot_verts.shape[0], 3, 1))\n",
        "for i in range(teapot_verts.shape[0]):\n",
        "  transformed_verts[i] = rot_mat @ rot_mat @ rot_mat @ np.reshape(teapot_verts[i], (3,1))\n",
        "\n",
        "plot3d_verts(transformed_verts, \"Composed transform\", range=5)"
      ],
      "execution_count": null,
      "outputs": [
        {
          "output_type": "display_data",
          "data": {
            "image/png": "[encoded data removed]",
            "text/plain": [
              "<Figure size 288x288 with 1 Axes>"
            ]
          },
          "metadata": {
            "tags": [],
            "needs_background": "light"
          }
        }
      ]
    },
    {
      "cell_type": "markdown",
      "metadata": {
        "id": "wmP0GNJ0__Ty"
      },
      "source": [
        "# Part 4: Cameras\n",
        "\n",
        "The tool that performs this conversion from 3D to 2D is a camera, and this action of converting from a higher to lower dimension world is called projection. Let's go through some examples."
      ]
    },
    {
      "cell_type": "markdown",
      "metadata": {
        "id": "KnxCkEAPUtI-"
      },
      "source": [
        "##4.1 Projection\n",
        "\n",
        "The primary problem we are faced with when trying to make a 2D image out of a 3D world is that there are infinitely many more points in 3D than we can represent in 2D. The classical solution to this problem is to make a projection. In other words, collapse lines of points in 3D onto the same point in 2D. In this way, each point in the 3D world can be mapped to a specific point on the 2D image, although each point in the 2D image maps to a ray of points in the 3D world. \n",
        "\n",
        "There are a number of different ways to do this so let's go through the most popular ones. Since starting from 3D math is a bit tricky, let's take this down a notch and start by looking at the simplest possbile system: going from a 2D world to a 1D image."
      ]
    },
    {
      "cell_type": "markdown",
      "metadata": {
        "id": "jKM_ibUMiI-I"
      },
      "source": [
        "##4.2 Orthographic Projection (2D->1D)"
      ]
    },
    {
      "cell_type": "markdown",
      "metadata": {
        "id": "7IQtEkRMirxE"
      },
      "source": [
        "##4.3 Orthographic Projection (3D->2D)"
      ]
    },
    {
      "cell_type": "markdown",
      "metadata": {
        "id": "bCnevVb-ihLL"
      },
      "source": [
        "##4.4 Perspective Projection (2D->1D)\n",
        "\n",
        "Pinhole camera"
      ]
    },
    {
      "cell_type": "markdown",
      "metadata": {
        "id": "ZSjDOZimi3r2"
      },
      "source": [
        "##4.5 Perspective Projection (3D->2D)"
      ]
    }
  ]
}